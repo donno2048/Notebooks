{
 "cells": [
  {
   "cell_type": "code",
   "execution_count": 1,
   "metadata": {},
   "outputs": [],
   "source": [
    "#pip install qiskit numpy matplotlib pylatexenc\n",
    "API_KEY = Your API Key"
   ]
  },
  {
   "cell_type": "code",
   "execution_count": 2,
   "metadata": {},
   "outputs": [
    {
     "data": {
      "text/html": [
       "<pre style=\"word-wrap: normal;white-space: pre;background: #fff0;line-height: 1.1;font-family: &quot;Courier New&quot;,Courier,monospace\">     ┌───┐          ┌───┐                                                     »\n",
       "q_0: ┤ X ├──────────┤ H ├──■────■───■───────────────────────────────────■─────»\n",
       "     ├───┤┌───┐┌───┐└─┬─┘┌─┴─┐┌─┴─┐ │ ┌────────┐┌────────┐┌────────┐┌───┴────┐»\n",
       "q_1: ┤ H ├┤ Y ├┤ Z ├──■──┤ X ├┤ Y ├─■─┤ RX(42) ├┤ RY(42) ├┤ RZ(42) ├┤ RX(42) ├»\n",
       "     └───┘└───┘└───┘     └───┘└───┘   └────────┘└────────┘└────────┘└────────┘»\n",
       "c: 2/═════════════════════════════════════════════════════════════════════════»\n",
       "                                                                              »\n",
       "«                             ┌────┐      ┌──────┐┌─┐   \n",
       "«q_0: ────■─────────■──────X──┤ √X ├──■───┤ √XDG ├┤M├───\n",
       "«     ┌───┴────┐┌───┴────┐ │ ┌┴────┤┌─┴──┐└┬───┬─┘└╥┘┌─┐\n",
       "«q_1: ┤ RY(42) ├┤ RZ(42) ├─X─┤ SDG ├┤ √X ├─┤ T ├───╫─┤M├\n",
       "«     └────────┘└────────┘   └─────┘└────┘ └───┘   ║ └╥┘\n",
       "«c: 2/═════════════════════════════════════════════╩══╩═\n",
       "«                                                  0  1 </pre>"
      ],
      "text/plain": [
       "     ┌───┐          ┌───┐                                                     »\n",
       "q_0: ┤ X ├──────────┤ H ├──■────■───■───────────────────────────────────■─────»\n",
       "     ├───┤┌───┐┌───┐└─┬─┘┌─┴─┐┌─┴─┐ │ ┌────────┐┌────────┐┌────────┐┌───┴────┐»\n",
       "q_1: ┤ H ├┤ Y ├┤ Z ├──■──┤ X ├┤ Y ├─■─┤ RX(42) ├┤ RY(42) ├┤ RZ(42) ├┤ RX(42) ├»\n",
       "     └───┘└───┘└───┘     └───┘└───┘   └────────┘└────────┘└────────┘└────────┘»\n",
       "c: 2/═════════════════════════════════════════════════════════════════════════»\n",
       "                                                                              »\n",
       "«                             ┌────┐      ┌──────┐┌─┐   \n",
       "«q_0: ────■─────────■──────X──┤ √X ├──■───┤ √XDG ├┤M├───\n",
       "«     ┌───┴────┐┌───┴────┐ │ ┌┴────┤┌─┴──┐└┬───┬─┘└╥┘┌─┐\n",
       "«q_1: ┤ RY(42) ├┤ RZ(42) ├─X─┤ SDG ├┤ √X ├─┤ T ├───╫─┤M├\n",
       "«     └────────┘└────────┘   └─────┘└────┘ └───┘   ║ └╥┘\n",
       "«c: 2/═════════════════════════════════════════════╩══╩═\n",
       "«                                                  0  1 "
      ]
     },
     "execution_count": 2,
     "metadata": {},
     "output_type": "execute_result"
    }
   ],
   "source": [
    "import qiskit\n",
    "%matplotlib inline\n",
    "#for jupyter\n",
    "circuit = qiskit.QuantumCircuit(2, 2) #two qubits at zero\n",
    "circuit.x(0) #apply a not gate over the 0th qubit\n",
    "circuit.h(1) #give the 1th qubit superposition\n",
    "circuit.y(1) #rotate the 1st qubit pi radians around the y axis\n",
    "circuit.z(1) #rotate the 1st qubit pi radians around the z axis\n",
    "circuit.ch(1, 0) #give the 0th qubit superposition if the 1st is one\n",
    "circuit.cx(0, 1) #apply a not gate over the 1st if the 0th is one\n",
    "circuit.cy(0, 1) #rotate the 1st qubit pi radians around the y axis if the 0th is one\n",
    "circuit.cz(0, 1) #rotate the 1st qubit pi radians around the z axis if the 0th is one\n",
    "circuit.rx(42, 1) #rotate the 1st qubit 42 radians around the x axis\n",
    "circuit.ry(42, 1) #rotate the 1st qubit 42 radians around the y axis\n",
    "circuit.crx(42, 0, 1) #rotate the 1st qubit 42 radians around the x axis if the 0th is one\n",
    "circuit.rz(42, 1) #rotate the 1st qubit 42 radians around the z axis\n",
    "circuit.crz(42, 0, 1) #rotate the 1st qubit 42 radians around the z axis if the 0th is one\n",
    "circuit.power(3) #raise the circuit to third power\n",
    "circuit.swap(0, 1) #swaps the values of the 0th and 1st qubits\n",
    "circuit.cry(42, 0, 1) #rotate the 1st qubit 42 radians around the y axis if the 0th is one\n",
    "circuit.sdg(1) #rotate the 1st qubit pi/2 radians around the z axis\n",
    "circuit.sx(0) #apply a square root not gate if apply twice is like a not on the 0th qubit\n",
    "circuit.csx(0, 1) #apply a square root not gate if apply twice is like a not on the 1st qubit if the 0th is one\n",
    "circuit.sxdg(0) #apply the inverse of the square root not gate\n",
    "circuit.t(1) #rotate the 1st qubit pi/4 radians around the z axis\n",
    "#circuit.reset(1) #reset the 1st qubit\n",
    "#circuit.cswap(2, 0, 1) #swaps the values of the 0th and 1st qubits if the 2nd is one\n",
    "#circuit.mcrx(42, (0, 2, ...), 1) #rotate the 1st qubit 42 radians around the x axis if the 0th and 2nd are one\n",
    "#circuit.mcry(42, (0, 2, ...), 1) #rotate the 1st qubit 42 radians around the y axis if the 0th and 2nd are one\n",
    "#circuit.mcrz(42, (0, 2, ...), 1) #rotate the 1st qubit 42 radians around the z axis if the 0th and 2nd are one\n",
    "#circuit.ccx(0, 1, 2) #apply a not gate over the 2nd bit if the 0th and the 1st are one\n",
    "#circuit.mcx((0, 1, ...), 2) #apply a not gate over the 2nd bit if the 0th and the 1st are one\n",
    "circuit.measure([0, 1], [0, 1])\n",
    "circuit.draw()"
   ]
  },
  {
   "cell_type": "code",
   "execution_count": 3,
   "metadata": {},
   "outputs": [
    {
     "data": {
      "image/png": "[encoded data removed]",
      "text/plain": [
       "<Figure size 1230.25x204.68 with 1 Axes>"
      ]
     },
     "execution_count": 3,
     "metadata": {},
     "output_type": "execute_result"
    }
   ],
   "source": [
    "circuit.draw(output = 'mpl')"
   ]
  },
  {
   "cell_type": "code",
   "execution_count": 4,
   "metadata": {
    "scrolled": true
   },
   "outputs": [
    {
     "data": {
      "text/plain": [
       "<AccountProvider for IBMQ(hub='ibm-q', group='open', project='main')>"
      ]
     },
     "execution_count": 4,
     "metadata": {},
     "output_type": "execute_result"
    }
   ],
   "source": [
    "from qiskit import IBMQ\n",
    "IBMQ.save_account(API_KEY, overwrite = True)\n",
    "IBMQ.load_account()"
   ]
  },
  {
   "cell_type": "code",
   "execution_count": 5,
   "metadata": {},
   "outputs": [
    {
     "name": "stdout",
     "output_type": "stream",
     "text": [
      "Job Status: job has successfully run\n"
     ]
    }
   ],
   "source": [
    "from qiskit.tools.monitor import job_monitor\n",
    "provider = IBMQ.get_provider('ibm-q')\n",
    "backends = provider.backends()\n",
    "qubits = []\n",
    "for backend in backends:\n",
    "    try: qubits += [len(backend.properties().qubits)]\n",
    "    except: qubits += [0]\n",
    "backend = provider.get_backend(backends[qubits.index(max(qubits))].name())\n",
    "job = qiskit.execute(circuit, backend = backend, shots = 10) #ten examples\n",
    "job_monitor(job)"
   ]
  },
  {
   "cell_type": "code",
   "execution_count": 6,
   "metadata": {},
   "outputs": [
    {
     "data": {
      "image/png": "[encoded data removed]",
      "text/plain": [
       "<Figure size 504x360 with 1 Axes>"
      ]
     },
     "execution_count": 6,
     "metadata": {},
     "output_type": "execute_result"
    }
   ],
   "source": [
    "from qiskit.visualization import plot_histogram\n",
    "result = job.result()\n",
    "counts = result.get_counts(circuit)\n",
    "plot_histogram([counts])"
   ]
  },
  {
   "cell_type": "code",
   "execution_count": null,
   "metadata": {},
   "outputs": [],
   "source": []
  }
 ],
 "metadata": {
  "kernelspec": {
   "display_name": "Python 3",
   "language": "python",
   "name": "python3"
  },
  "language_info": {
   "codemirror_mode": {
    "name": "ipython",
    "version": 3
   },
   "file_extension": ".py",
   "mimetype": "text/x-python",
   "name": "python",
   "nbconvert_exporter": "python",
   "pygments_lexer": "ipython3",
   "version": "3.8.5"
  }
 },
 "nbformat": 4,
 "nbformat_minor": 2
}
