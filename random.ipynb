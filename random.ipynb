{
 "metadata": {
  "language_info": {
   "codemirror_mode": {
    "name": "ipython",
    "version": 3
   },
   "file_extension": ".py",
   "mimetype": "text/x-python",
   "name": "python",
   "nbconvert_exporter": "python",
   "pygments_lexer": "ipython3",
   "version": "3.8.3-final"
  },
  "orig_nbformat": 2,
  "kernelspec": {
   "name": "python3",
   "display_name": "Python 3.8.3 64-bit",
   "metadata": {
    "interpreter": {
     "hash": "a5673a02c7eeb6f4ffeb34550b9c0a0739043c1c19e9dbf8016bb1e097e4a0ce"
    }
   }
  }
 },
 "nbformat": 4,
 "nbformat_minor": 2,
 "cells": [
  {
   "source": [
    "# In this notebook I will try to ask a \"machine learning\" algorithm to predict the next random integer"
   ],
   "cell_type": "markdown",
   "metadata": {}
  },
  {
   "source": [
    "First of all I will import the needed functions:"
   ],
   "cell_type": "markdown",
   "metadata": {}
  },
  {
   "cell_type": "code",
   "execution_count": 1,
   "metadata": {},
   "outputs": [],
   "source": [
    "from numpy import array\n",
    "from sklearn.linear_model import LinearRegression\n",
    "from random import randint"
   ]
  },
  {
   "source": [
    "Then, I will define some important variables:\n",
    "- NUM: number of random integers for the training\n",
    "- MIN: minimum value of the random integers\n",
    "- MAX: maximum value of the random integers"
   ],
   "cell_type": "markdown",
   "metadata": {}
  },
  {
   "cell_type": "code",
   "execution_count": 2,
   "metadata": {},
   "outputs": [],
   "source": [
    "NUM = 100\n",
    "MIN = 0\n",
    "MAX = 100"
   ]
  },
  {
   "source": [
    "Now I will create and train the regression object:"
   ],
   "cell_type": "markdown",
   "metadata": {}
  },
  {
   "cell_type": "code",
   "execution_count": 3,
   "metadata": {},
   "outputs": [
    {
     "output_type": "execute_result",
     "data": {
      "text/plain": [
       "LinearRegression()"
      ]
     },
     "metadata": {},
     "execution_count": 3
    }
   ],
   "source": [
    "x, y = [], []\n",
    "random = lambda: randint(MIN, MAX)\n",
    "for (i, j) in enumerate([random() for _ in range(NUM)]):\n",
    "    x += [[i]]\n",
    "    y += [j]\n",
    "reg = LinearRegression()\n",
    "reg.fit(array(x), array(y))"
   ]
  },
  {
   "source": [
    "Now, I will *try* (this won't work) to predict the next random integer"
   ],
   "cell_type": "markdown",
   "metadata": {}
  },
  {
   "cell_type": "code",
   "execution_count": 4,
   "metadata": {},
   "outputs": [
    {
     "output_type": "stream",
     "name": "stdout",
     "text": [
      "The real random integer was: 62 and the prediction is: 41.31393939393939\n"
     ]
    }
   ],
   "source": [
    "print(\"The real random integer was:\", random(), \"and the prediction is:\", reg.predict([[NUM]])[0])"
   ]
  },
  {
   "source": [
    "OK, this didn't work, I will try a more sophisticated method, let's import tensorflow"
   ],
   "cell_type": "markdown",
   "metadata": {}
  },
  {
   "cell_type": "code",
   "execution_count": 5,
   "metadata": {},
   "outputs": [],
   "source": [
    "from tensorflow.keras.models import Sequential\n",
    "from tensorflow.keras.layers import Dense"
   ]
  },
  {
   "source": [
    "Now I will create and train the model:"
   ],
   "cell_type": "markdown",
   "metadata": {}
  },
  {
   "cell_type": "code",
   "execution_count": 6,
   "metadata": {},
   "outputs": [
    {
     "output_type": "stream",
     "name": "stdout",
     "text": [
      "100/100 [==============================] - 1s 1ms/step - loss: 54.0113\n"
     ]
    },
    {
     "output_type": "execute_result",
     "data": {
      "text/plain": [
       "<tensorflow.python.keras.callbacks.History at 0x1963605a340>"
      ]
     },
     "metadata": {},
     "execution_count": 6
    }
   ],
   "source": [
    "x, y = [], []\n",
    "for (i, j) in enumerate([random() for _ in range(NUM)]):\n",
    "    x += [[i]]\n",
    "    y += [j]\n",
    "model = Sequential()\n",
    "model.add(Dense(1, input_dim=1))\n",
    "model.add(Dense(1))\n",
    "model.compile(loss='mean_absolute_error', optimizer='adam')\n",
    "model.fit(array(x), array(y), batch_size=1, epochs=1, verbose=1)"
   ]
  },
  {
   "source": [
    "Now, I will try to predict the next random integer (again):"
   ],
   "cell_type": "markdown",
   "metadata": {}
  },
  {
   "cell_type": "code",
   "execution_count": 7,
   "metadata": {},
   "outputs": [
    {
     "output_type": "stream",
     "name": "stdout",
     "text": [
      "The real random integer was: 46 and the prediction is: 9.961186\n"
     ]
    }
   ],
   "source": [
    "print(\"The real random integer was:\", random(), \"and the prediction is:\", model.predict([[NUM]])[0][0])"
   ]
  },
  {
   "source": [
    "Let's try with more epochs:"
   ],
   "cell_type": "markdown",
   "metadata": {}
  },
  {
   "cell_type": "code",
   "execution_count": 8,
   "metadata": {},
   "outputs": [
    {
     "output_type": "stream",
     "name": "stdout",
     "text": [
      "Epoch 1/100\n",
      "100/100 [==============================] - 0s 2ms/step - loss: 43.7009\n",
      "Epoch 2/100\n",
      "100/100 [==============================] - 0s 2ms/step - loss: 41.4030\n",
      "Epoch 3/100\n",
      "100/100 [==============================] - 0s 2ms/step - loss: 39.1812\n",
      "Epoch 4/100\n",
      "100/100 [==============================] - 0s 2ms/step - loss: 37.4053\n",
      "Epoch 5/100\n",
      "100/100 [==============================] - 0s 2ms/step - loss: 35.9239\n",
      "Epoch 6/100\n",
      "100/100 [==============================] - 0s 2ms/step - loss: 34.7361\n",
      "Epoch 7/100\n",
      "100/100 [==============================] - 0s 2ms/step - loss: 33.9034\n",
      "Epoch 8/100\n",
      "100/100 [==============================] - 0s 2ms/step - loss: 33.2788\n",
      "Epoch 9/100\n",
      "100/100 [==============================] - 0s 2ms/step - loss: 32.8999\n",
      "Epoch 10/100\n",
      "100/100 [==============================] - 0s 2ms/step - loss: 32.6443\n",
      "Epoch 11/100\n",
      "100/100 [==============================] - 0s 2ms/step - loss: 32.4538\n",
      "Epoch 12/100\n",
      "100/100 [==============================] - 0s 2ms/step - loss: 32.3360\n",
      "Epoch 13/100\n",
      "100/100 [==============================] - 0s 2ms/step - loss: 32.2804\n",
      "Epoch 14/100\n",
      "100/100 [==============================] - 0s 2ms/step - loss: 32.1961\n",
      "Epoch 15/100\n",
      "100/100 [==============================] - 0s 2ms/step - loss: 32.1765\n",
      "Epoch 16/100\n",
      "100/100 [==============================] - 0s 2ms/step - loss: 32.1380\n",
      "Epoch 17/100\n",
      "100/100 [==============================] - 0s 2ms/step - loss: 32.1456\n",
      "Epoch 18/100\n",
      "100/100 [==============================] - 0s 2ms/step - loss: 32.1262\n",
      "Epoch 19/100\n",
      "100/100 [==============================] - 0s 2ms/step - loss: 32.1077\n",
      "Epoch 20/100\n",
      "100/100 [==============================] - 0s 2ms/step - loss: 32.1104\n",
      "Epoch 21/100\n",
      "100/100 [==============================] - 0s 2ms/step - loss: 32.0833\n",
      "Epoch 22/100\n",
      "100/100 [==============================] - 0s 2ms/step - loss: 32.0659\n",
      "Epoch 23/100\n",
      "100/100 [==============================] - 0s 2ms/step - loss: 32.0547\n",
      "Epoch 24/100\n",
      "100/100 [==============================] - 0s 1ms/step - loss: 32.0562\n",
      "Epoch 25/100\n",
      "100/100 [==============================] - 0s 2ms/step - loss: 32.0621\n",
      "Epoch 26/100\n",
      "100/100 [==============================] - 0s 2ms/step - loss: 32.0162\n",
      "Epoch 27/100\n",
      "100/100 [==============================] - 0s 2ms/step - loss: 32.0067\n",
      "Epoch 28/100\n",
      "100/100 [==============================] - 0s 2ms/step - loss: 32.0430\n",
      "Epoch 29/100\n",
      "100/100 [==============================] - 0s 2ms/step - loss: 31.9780\n",
      "Epoch 30/100\n",
      "100/100 [==============================] - 0s 2ms/step - loss: 31.9947\n",
      "Epoch 31/100\n",
      "100/100 [==============================] - 0s 2ms/step - loss: 31.9602\n",
      "Epoch 32/100\n",
      "100/100 [==============================] - 0s 2ms/step - loss: 31.9428\n",
      "Epoch 33/100\n",
      "100/100 [==============================] - 0s 2ms/step - loss: 32.0226\n",
      "Epoch 34/100\n",
      "100/100 [==============================] - 0s 2ms/step - loss: 31.9237\n",
      "Epoch 35/100\n",
      "100/100 [==============================] - 0s 2ms/step - loss: 31.9143\n",
      "Epoch 36/100\n",
      "100/100 [==============================] - 0s 2ms/step - loss: 31.9279\n",
      "Epoch 37/100\n",
      "100/100 [==============================] - 0s 2ms/step - loss: 31.9412\n",
      "Epoch 38/100\n",
      "100/100 [==============================] - 0s 2ms/step - loss: 31.8836\n",
      "Epoch 39/100\n",
      "100/100 [==============================] - 0s 2ms/step - loss: 31.9003\n",
      "Epoch 40/100\n",
      "100/100 [==============================] - 0s 2ms/step - loss: 31.8693\n",
      "Epoch 41/100\n",
      "100/100 [==============================] - 0s 2ms/step - loss: 31.8648\n",
      "Epoch 42/100\n",
      "100/100 [==============================] - 0s 2ms/step - loss: 31.8306\n",
      "Epoch 43/100\n",
      "100/100 [==============================] - 0s 2ms/step - loss: 31.8247\n",
      "Epoch 44/100\n",
      "100/100 [==============================] - 0s 2ms/step - loss: 31.8119\n",
      "Epoch 45/100\n",
      "100/100 [==============================] - 0s 2ms/step - loss: 31.7984\n",
      "Epoch 46/100\n",
      "100/100 [==============================] - 0s 2ms/step - loss: 31.8082\n",
      "Epoch 47/100\n",
      "100/100 [==============================] - 0s 2ms/step - loss: 31.7870\n",
      "Epoch 48/100\n",
      "100/100 [==============================] - 0s 2ms/step - loss: 31.7840\n",
      "Epoch 49/100\n",
      "100/100 [==============================] - 0s 2ms/step - loss: 31.7835\n",
      "Epoch 50/100\n",
      "100/100 [==============================] - 0s 2ms/step - loss: 31.7581\n",
      "Epoch 51/100\n",
      "100/100 [==============================] - 0s 2ms/step - loss: 31.7390\n",
      "Epoch 52/100\n",
      "100/100 [==============================] - 0s 2ms/step - loss: 31.7271\n",
      "Epoch 53/100\n",
      "100/100 [==============================] - 0s 2ms/step - loss: 31.7266\n",
      "Epoch 54/100\n",
      "100/100 [==============================] - 0s 2ms/step - loss: 31.7259\n",
      "Epoch 55/100\n",
      "100/100 [==============================] - 0s 2ms/step - loss: 31.7325\n",
      "Epoch 56/100\n",
      "100/100 [==============================] - 0s 2ms/step - loss: 31.7104\n",
      "Epoch 57/100\n",
      "100/100 [==============================] - 0s 2ms/step - loss: 31.6885\n",
      "Epoch 58/100\n",
      "100/100 [==============================] - 0s 2ms/step - loss: 31.7013\n",
      "Epoch 59/100\n",
      "100/100 [==============================] - 0s 2ms/step - loss: 31.6660\n",
      "Epoch 60/100\n",
      "100/100 [==============================] - 0s 2ms/step - loss: 31.6259\n",
      "Epoch 61/100\n",
      "100/100 [==============================] - 0s 2ms/step - loss: 31.6221\n",
      "Epoch 62/100\n",
      "100/100 [==============================] - 0s 2ms/step - loss: 31.6281\n",
      "Epoch 63/100\n",
      "100/100 [==============================] - 0s 2ms/step - loss: 31.6123\n",
      "Epoch 64/100\n",
      "100/100 [==============================] - 0s 2ms/step - loss: 31.5944\n",
      "Epoch 65/100\n",
      "100/100 [==============================] - 0s 2ms/step - loss: 31.5983\n",
      "Epoch 66/100\n",
      "100/100 [==============================] - 0s 2ms/step - loss: 31.5849\n",
      "Epoch 67/100\n",
      "100/100 [==============================] - 0s 2ms/step - loss: 31.5685\n",
      "Epoch 68/100\n",
      "100/100 [==============================] - 0s 1ms/step - loss: 31.5590\n",
      "Epoch 69/100\n",
      "100/100 [==============================] - 0s 1ms/step - loss: 31.5770\n",
      "Epoch 70/100\n",
      "100/100 [==============================] - 0s 1ms/step - loss: 31.5334\n",
      "Epoch 71/100\n",
      "100/100 [==============================] - 0s 1ms/step - loss: 31.5416\n",
      "Epoch 72/100\n",
      "100/100 [==============================] - 0s 1ms/step - loss: 31.5125\n",
      "Epoch 73/100\n",
      "100/100 [==============================] - 0s 1ms/step - loss: 31.5269\n",
      "Epoch 74/100\n",
      "100/100 [==============================] - 0s 1ms/step - loss: 31.4921\n",
      "Epoch 75/100\n",
      "100/100 [==============================] - 0s 1ms/step - loss: 31.5127\n",
      "Epoch 76/100\n",
      "100/100 [==============================] - 0s 1ms/step - loss: 31.5089\n",
      "Epoch 77/100\n",
      "100/100 [==============================] - 0s 1ms/step - loss: 31.4657\n",
      "Epoch 78/100\n",
      "100/100 [==============================] - 0s 1ms/step - loss: 31.4712\n",
      "Epoch 79/100\n",
      "100/100 [==============================] - 0s 2ms/step - loss: 31.4340\n",
      "Epoch 80/100\n",
      "100/100 [==============================] - 0s 1ms/step - loss: 31.4208\n",
      "Epoch 81/100\n",
      "100/100 [==============================] - 0s 1ms/step - loss: 31.4378\n",
      "Epoch 82/100\n",
      "100/100 [==============================] - 0s 2ms/step - loss: 31.4170\n",
      "Epoch 83/100\n",
      "100/100 [==============================] - 0s 2ms/step - loss: 31.5154\n",
      "Epoch 84/100\n",
      "100/100 [==============================] - 0s 2ms/step - loss: 31.3811\n",
      "Epoch 85/100\n",
      "100/100 [==============================] - 0s 2ms/step - loss: 31.3690\n",
      "Epoch 86/100\n",
      "100/100 [==============================] - 0s 1ms/step - loss: 31.3491\n",
      "Epoch 87/100\n",
      "100/100 [==============================] - 0s 2ms/step - loss: 31.3563\n",
      "Epoch 88/100\n",
      "100/100 [==============================] - 0s 2ms/step - loss: 31.3501\n",
      "Epoch 89/100\n",
      "100/100 [==============================] - 0s 1ms/step - loss: 31.3512\n",
      "Epoch 90/100\n",
      "100/100 [==============================] - 0s 2ms/step - loss: 31.3149\n",
      "Epoch 91/100\n",
      "100/100 [==============================] - 0s 1ms/step - loss: 31.3386\n",
      "Epoch 92/100\n",
      "100/100 [==============================] - 0s 1ms/step - loss: 31.3092\n",
      "Epoch 93/100\n",
      "100/100 [==============================] - 0s 1ms/step - loss: 31.2895\n",
      "Epoch 94/100\n",
      "100/100 [==============================] - 0s 1ms/step - loss: 31.2906\n",
      "Epoch 95/100\n",
      "100/100 [==============================] - 0s 1ms/step - loss: 31.3087\n",
      "Epoch 96/100\n",
      "100/100 [==============================] - 0s 1ms/step - loss: 31.2684\n",
      "Epoch 97/100\n",
      "100/100 [==============================] - 0s 2ms/step - loss: 31.2720\n",
      "Epoch 98/100\n",
      "100/100 [==============================] - 0s 2ms/step - loss: 31.2392\n",
      "Epoch 99/100\n",
      "100/100 [==============================] - 0s 1ms/step - loss: 31.2336\n",
      "Epoch 100/100\n",
      "100/100 [==============================] - 0s 1ms/step - loss: 31.2060\n"
     ]
    },
    {
     "output_type": "execute_result",
     "data": {
      "text/plain": [
       "<tensorflow.python.keras.callbacks.History at 0x196363208b0>"
      ]
     },
     "metadata": {},
     "execution_count": 8
    }
   ],
   "source": [
    "x, y = [], []\n",
    "for (i, j) in enumerate([random() for _ in range(NUM)]):\n",
    "    x += [[i]]\n",
    "    y += [j]\n",
    "model.fit(array(x), array(y), batch_size=1, epochs=100, verbose=1)"
   ]
  },
  {
   "source": [
    "Now, I will try to predict the next random integer (for the last time):"
   ],
   "cell_type": "markdown",
   "metadata": {}
  },
  {
   "cell_type": "code",
   "execution_count": 9,
   "metadata": {},
   "outputs": [
    {
     "output_type": "stream",
     "name": "stdout",
     "text": [
      "The real random integer was: 72 and the prediction is: 70.581474\n"
     ]
    }
   ],
   "source": [
    "print(\"The real random integer was:\", random(), \"and the prediction is:\", model.predict([[NUM]])[0][0])"
   ]
  }
 ]
}
